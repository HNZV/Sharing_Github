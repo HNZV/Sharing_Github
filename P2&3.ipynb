{
 "cells": [
  {
   "cell_type": "code",
   "execution_count": null,
   "id": "bf7da024",
   "metadata": {},
   "outputs": [],
   "source": [
    "#####  تمرین شماره 2\n",
    "##### برنامه ای بنویسید که از کاربر تاریخ امروز را بگیرد و بصورت ( روز  ماه  سال)\n",
    "#####  استفاده از دستور  def"
   ]
  },
  {
   "cell_type": "code",
   "execution_count": 5,
   "id": "d2bdd941",
   "metadata": {},
   "outputs": [
    {
     "name": "stdout",
     "output_type": "stream",
     "text": [
      "Today's Date is: 21 / 4 / 2022\n",
      "Have a good day!!\n"
     ]
    }
   ],
   "source": [
    "# First Method\n",
    "\n",
    "from IPython.display import clear_output   # using this order for clearing extra output\n",
    "\n",
    "D = int(input (\"Please enter the day: \"))\n",
    "M = int(input (\"Please enter the Month: \"))\n",
    "Y = int(input (\"Please enter the Year: \"))\n",
    "\n",
    "clear_output(wait=True)\n",
    "\n",
    "def Today_Date ():\n",
    "    a = D\n",
    "    b = M\n",
    "    c = Y\n",
    "    print (\"Today's Date is:\",a,\"/\",b,\"/\",c)\n",
    "Today_Date ()\n",
    "\n",
    "print (\"Have a good day!!\")"
   ]
  },
  {
   "cell_type": "code",
   "execution_count": 4,
   "id": "c6c24d94",
   "metadata": {},
   "outputs": [
    {
     "name": "stdout",
     "output_type": "stream",
     "text": [
      "today's Date is: 21 / 4 / 2022\n",
      "Have a good day!!\n"
     ]
    }
   ],
   "source": [
    "# Second Method\n",
    "\n",
    "from IPython.display import clear_output   # using this order for clearing extra output\n",
    "\n",
    "a = int(input (\"Please enter the day: \"))\n",
    "b = int(input (\"Please enter the Month: \"))\n",
    "c = int(input (\"Please enter the Year: \"))\n",
    "clear_output(wait=True)\n",
    "\n",
    "def Today_Date (D,M,Y):\n",
    "    print (\"today's Date is:\",D,\"/\", M,\"/\", Y)\n",
    "Today_Date (a,b,c)\n",
    "\n",
    "print (\"Have a good day!!\")"
   ]
  },
  {
   "cell_type": "code",
   "execution_count": null,
   "id": "d8e276ea",
   "metadata": {},
   "outputs": [],
   "source": [
    "######## تمرین شماره 3\n",
    "####   برنامه ای که از کاریر عددی را به عنوان تعداد روز بگیرد و\n",
    "#####  آن را بصورت تعداد ماه و روز نمایش دهد\n",
    "##### شرط ماه را ۳۱ روز در نظر بگیرید\n",
    "##### استفاده از if"
   ]
  },
  {
   "cell_type": "code",
   "execution_count": 15,
   "id": "693b639a",
   "metadata": {},
   "outputs": [
    {
     "name": "stdout",
     "output_type": "stream",
     "text": [
      "234 days would be [ 7 ] Months and 17 Days.\n",
      "Done!!\n"
     ]
    }
   ],
   "source": [
    "# First Method\n",
    "\n",
    "from IPython.display import clear_output\n",
    "\n",
    "D = int(input(\"Please Enter the number of days: \"))\n",
    "\n",
    "clear_output(wait=True)\n",
    "\n",
    "if D%31 == 0:\n",
    "    print (D, \"days would be [\", D//31, \"] Months.\")\n",
    "else:\n",
    "    print (D, \"days would be [\", D//31, \"] Months and\", D%31, \"Days.\")\n",
    "\n",
    "print (\"Done!!\")"
   ]
  },
  {
   "cell_type": "code",
   "execution_count": 39,
   "id": "b7864323",
   "metadata": {},
   "outputs": [
    {
     "name": "stdout",
     "output_type": "stream",
     "text": [
      "234 days would be [ 7 ] Months and 17 Days.\n",
      "Done!!\n"
     ]
    }
   ],
   "source": [
    "# Second Method\n",
    "\n",
    "from IPython.display import clear_output\n",
    "\n",
    "D = int(input(\"Please Enter the number of days: \"))\n",
    "\n",
    "clear_output(wait=True)\n",
    "\n",
    "if D%31 >= 0:\n",
    "    print (D, \"days would be [\", D//31, \"] Months and\", D%31, \"Days.\")\n",
    "    \n",
    "print (\"Done!!\")"
   ]
  },
  {
   "cell_type": "code",
   "execution_count": 67,
   "id": "46091b60",
   "metadata": {},
   "outputs": [
    {
     "name": "stdout",
     "output_type": "stream",
     "text": [
      "324 days would be [ 10 ] Months and 14 Days.\n",
      "Done!\n"
     ]
    }
   ],
   "source": [
    "# Third Method\n",
    "\n",
    "try:\n",
    "    from IPython.display import clear_output\n",
    "    D = int(input(\"Please Enter the number of days: \"))\n",
    "    clear_output(wait=True)\n",
    "\n",
    "    if D >= 0:\n",
    "        print (D, \"days would be [\", D//31, \"] Months and\", D%31, \"Days.\")\n",
    "    else:\n",
    "        print (\"You should enter a positive integer!\")\n",
    "    \n",
    "except:\n",
    "    print (\"You should enter an integer!\")\n",
    "    \n",
    "else:\n",
    "    print (\"Done!\")"
   ]
  },
  {
   "cell_type": "code",
   "execution_count": null,
   "id": "2428ca9f",
   "metadata": {},
   "outputs": [],
   "source": []
  }
 ],
 "metadata": {
  "kernelspec": {
   "display_name": "Python 3 (ipykernel)",
   "language": "python",
   "name": "python3"
  },
  "language_info": {
   "codemirror_mode": {
    "name": "ipython",
    "version": 3
   },
   "file_extension": ".py",
   "mimetype": "text/x-python",
   "name": "python",
   "nbconvert_exporter": "python",
   "pygments_lexer": "ipython3",
   "version": "3.9.7"
  }
 },
 "nbformat": 4,
 "nbformat_minor": 5
}
