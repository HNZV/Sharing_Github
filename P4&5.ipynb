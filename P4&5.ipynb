{
 "cells": [
  {
   "cell_type": "code",
   "execution_count": 7,
   "id": "051a2379",
   "metadata": {},
   "outputs": [],
   "source": [
    "#### نمرین 4\n",
    "#### ساخت مثلث با while and for in\n",
    "#*\n",
    "#**\n",
    "#***\n",
    "#****\n",
    "#*****\n",
    "#******"
   ]
  },
  {
   "cell_type": "code",
   "execution_count": 2,
   "id": "f85b1f96",
   "metadata": {},
   "outputs": [
    {
     "name": "stdout",
     "output_type": "stream",
     "text": [
      "*\n",
      "**\n",
      "***\n",
      "****\n",
      "*****\n",
      "******\n"
     ]
    }
   ],
   "source": [
    "#First Method, with  For    in\n",
    "\n",
    "character = ['*','**','***','****','*****','******']\n",
    "\n",
    "index = 0\n",
    "\n",
    "for each in character:\n",
    "    if index <= 5:\n",
    "        print (each)\n",
    "    index +=1"
   ]
  },
  {
   "cell_type": "code",
   "execution_count": 2,
   "id": "5f7994cd",
   "metadata": {},
   "outputs": [
    {
     "name": "stdout",
     "output_type": "stream",
     "text": [
      "*\n",
      "**\n",
      "***\n",
      "****\n",
      "*****\n",
      "******\n"
     ]
    }
   ],
   "source": [
    "#Second Method, with   For   in\n",
    "\n",
    "character = ['*','**','***','****','*****','******']\n",
    "\n",
    "for each in range(len(character)):\n",
    "        print (character[each])"
   ]
  },
  {
   "cell_type": "code",
   "execution_count": 3,
   "id": "7959e2d0",
   "metadata": {},
   "outputs": [
    {
     "name": "stdout",
     "output_type": "stream",
     "text": [
      "*\n",
      "**\n",
      "***\n",
      "****\n",
      "*****\n",
      "******\n"
     ]
    }
   ],
   "source": [
    "#Third Method, with  while\n",
    "\n",
    "character = ['*','**','***','****','*****','******']\n",
    "index = 0\n",
    "\n",
    "while index <= 5:\n",
    "    print (character[index])\n",
    "    index += 1"
   ]
  },
  {
   "cell_type": "code",
   "execution_count": 6,
   "id": "b6830ba6",
   "metadata": {},
   "outputs": [],
   "source": [
    "#### نمرین 5\n",
    "###  از کاربر یک بازه عددی بگیرید و مطابق با استپ های خودش گام بندی کنید \n",
    "### استفاده از def و for in"
   ]
  },
  {
   "cell_type": "code",
   "execution_count": 10,
   "id": "ac7d49b3",
   "metadata": {},
   "outputs": [
    {
     "name": "stdout",
     "output_type": "stream",
     "text": [
      "1\n",
      "4\n",
      "7\n",
      "10\n"
     ]
    }
   ],
   "source": [
    "\n",
    "from IPython.display import clear_output   # using this order for clearing extra output\n",
    "\n",
    "a = int(input(\"please enter begin of the period: \"))\n",
    "b = int(input(\"please enter end of the period: \"))\n",
    "c = int(input(\"please enter step of the period: \"))\n",
    "\n",
    "clear_output(wait=True)\n",
    "\n",
    "def period (first,last,step):\n",
    "    if last > first:         # check if the second number is greater than the first one!\n",
    "        for each in range (first,last,step):\n",
    "            print (each)\n",
    "    else:\n",
    "        print (\"The second number must be greater than the first one!\")\n",
    "\n",
    "period (a,b,c)"
   ]
  },
  {
   "cell_type": "code",
   "execution_count": null,
   "id": "13f5c574",
   "metadata": {},
   "outputs": [],
   "source": []
  }
 ],
 "metadata": {
  "kernelspec": {
   "display_name": "Python 3 (ipykernel)",
   "language": "python",
   "name": "python3"
  },
  "language_info": {
   "codemirror_mode": {
    "name": "ipython",
    "version": 3
   },
   "file_extension": ".py",
   "mimetype": "text/x-python",
   "name": "python",
   "nbconvert_exporter": "python",
   "pygments_lexer": "ipython3",
   "version": "3.9.7"
  }
 },
 "nbformat": 4,
 "nbformat_minor": 5
}
